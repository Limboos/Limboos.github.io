{
 "cells": [
  {
   "cell_type": "code",
   "execution_count": 1,
   "id": "14603c88-ef50-4bd4-9221-d56eb0c20d37",
   "metadata": {},
   "outputs": [
    {
     "name": "stderr",
     "output_type": "stream",
     "text": [
      "2025-04-04 11:04:12,912 [INFO] Note: NumExpr detected 16 cores but \"NUMEXPR_MAX_THREADS\" not set, so enforcing safe limit of 8.\n",
      "2025-04-04 11:04:12,913 [INFO] NumExpr defaulting to 8 threads.\n"
     ]
    }
   ],
   "source": [
    "from LLM_Integration.ollama_parser import OllamaParser\n",
    "from LLM_Integration.adapter import BikeDataEnricher\n",
    "import os\n",
    "import  json"
   ]
  },
  {
   "cell_type": "code",
   "execution_count": 2,
   "id": "6131b8f6-d1a7-40fa-af3a-ab94af54c7a4",
   "metadata": {},
   "outputs": [],
   "source": [
    "# Ścieżki do plików danych\n",
    "DATA_DIR = \"data\"\n",
    "BIKES_FILE = os.path.join(DATA_DIR, \"gravel_bikes.json\")\n",
    "STATS_FILE = os.path.join(DATA_DIR, \"statistics.json\")\n",
    "ENRICHED_BIKES_FILE = os.path.join(DATA_DIR, \"enriched_bikes.json\")\n",
    "HTML_FILE = os.path.join(\"static\", \"index.html\")"
   ]
  },
  {
   "cell_type": "code",
   "execution_count": 3,
   "id": "7662c939-df06-44f7-9627-1c2d4a83ddba",
   "metadata": {},
   "outputs": [
    {
     "name": "stderr",
     "output_type": "stream",
     "text": [
      "2025-04-04 11:04:13,805 [INFO] OllamaParser initialized with URL: http://localhost:11434\n",
      "2025-04-04 11:04:13,806 [INFO] LLM: deepseek-r1:14b (Available: True)\n"
     ]
    }
   ],
   "source": [
    "parser = OllamaParser()\n"
   ]
  },
  {
   "cell_type": "code",
   "execution_count": 4,
   "id": "05417824-a3fe-43fc-8b22-2ada4fe3851c",
   "metadata": {},
   "outputs": [],
   "source": [
    "BIKES_FILE = \"./data/gravel_bikes.json\"\n",
    "with open(BIKES_FILE, 'r', encoding='utf-8') as f:\n",
    "    bikes = json.load(f)\n"
   ]
  },
  {
   "cell_type": "code",
   "execution_count": 5,
   "id": "a12bb228-80e7-4f8b-8b69-f08c2241ded6",
   "metadata": {},
   "outputs": [
    {
     "name": "stderr",
     "output_type": "stream",
     "text": [
      "2025-04-04 11:04:13,875 [INFO] OllamaParser initialized with URL: http://localhost:11434\n",
      "2025-04-04 11:04:13,875 [INFO] LLM: deepseek-r1:14b (Available: True)\n"
     ]
    }
   ],
   "source": [
    "\n",
    "# Inicjalizacja BikeDataEnricher\n",
    "enricher = BikeDataEnricher()\n"
   ]
  },
  {
   "cell_type": "code",
   "execution_count": null,
   "id": "af2729bd-0caf-43fa-a0a3-22bc9dee0ac3",
   "metadata": {},
   "outputs": [
    {
     "name": "stderr",
     "output_type": "stream",
     "text": [
      "2025-04-04 11:04:13,901 [INFO] Enriching bike: Triban  RC 5 2 0 Wrocław Fabryczna • OLX.pl...\n"
     ]
    },
    {
     "name": "stdout",
     "output_type": "stream",
     "text": [
      "{'title': 'Triban  RC 5 2 0 Wrocław Fabryczna • OLX.pl', 'price': 2000.0, 'location': 'Nieznana', 'date_added': '04.04.2025', 'url': 'https://www.olx.pl/oferta/triban-rc-5-2-0-CID767-ID15f0JJ.html', 'brand': 'Triban', 'size': 'm', 'year': None, 'description': 'OpisRama\\nRama Triban Evo z aluminium 6061 T6, geometria ukierunkowana na komfort, z odpowiednio dobranym slopingiem.\\nWaga: 1780 g w rozmiarze M.\\nSolidna i wszechstronna rama: możliwość zamontowania błotników i bagażnika.\\nNormatywna kompatybilność z oponami o przekroju do 36 mm.\\nSpecjalna praca przeprowadzona na ramie umożliwiła uzyskanie dobrej sztywności bocznej i dobre filtrowanie drgań. Dzięki temu nasz system koła z quick release (QR), bardziej przystępny, gwarantuje dobrą sztywność.\\n\\nWidelec\\nWidelec Triban Evo z karbonowymi goleniami i rurą sterową z aluminium 1\"1/8 Aheadset. Ten widelec łączy w sobie komfort, lekkość i precyzję.\\nWłókno węglowe wykorzystane, aby zapewnić dużą sztywność boczną i skuteczne filtrowanie drgań czołowych.\\nNa goleniach inserty do zamocowania przedniego bagażnika. Maksymalne obciążenie dla widelca: 8 kg.\\nOczka na osi koła do zamocowania błotnika.\\nNormatywna kompatybilność z oponami o przekroju do 36 mm.\\n\\nNapęd\\nKompaktowy napęd 50/34 11/32 dla optymalnej wydajności na twardych nawierzchniach.\\nManetki Shimano 105 R7000.\\nPrzednia przerzutka Shimano 105 R7000.\\nTylna przerzutka Shimano 105 R7000 11-rzędowa z długim wózkiem.\\nCałkowita waga: 843 g.\\n\\nTylna przerzutka typu \"Shadow\" dla lepszej ochrony podczas użytkowania typu gravel. Przerzutka chowa się za kasetą i nie wystaje poza obrys górnych rur tylnego trójkąta, co ogranicza ryzyko oderwania jej.', 'condition': 'Używane', 'color': 'Granatowy', 'derailleur_type': 'Zewnętrzna', 'brake_type': 'Tarczowe mechaniczne', 'frame_material': 'Aluminium', 'wheel_size': '28\"', 'seller_type': 'Prywatne', 'bike_type': None, 'frame_size_desc': '19-20\"', 'gears': None, 'weight': None, 'suspension': None, 'parameters': {'Typ sprzedawcy': 'Prywatne', 'Marka': 'Inna', 'Stan': 'Używane', 'Kolor': 'Granatowy', 'Rodzaj przerzutki': 'Zewnętrzna', 'Typ hamulca': 'Tarczowe mechaniczne', 'Materiał ramy': 'Aluminium', 'Rozmiar koła': '28\"', 'Rozmiar ramy': '19-20\"'}}\n"
     ]
    },
    {
     "name": "stderr",
     "output_type": "stream",
     "text": [
      "2025-04-04 11:04:31,628 [INFO] Enriching bike: Canyon Roadlite CF 7.0 , Carbon,  Gravel, Fitness ...\n",
      "2025-04-04 11:04:45,803 [INFO] Enriching bike: SPECIALIZED SIRRUS 4.0 Full CARBON 2022 XL Fitness...\n",
      "2025-04-04 11:05:00,335 [INFO] Enriching bike: Triban GRAVEL 120 - 2024 - 175-185 cm Wrocław Krzy...\n",
      "2025-04-04 11:05:13,164 [INFO] Enriching bike: Gravel elektryczny Orbea Gain D20 M Black - titani...\n",
      "2025-04-04 11:05:28,638 [INFO] Enriching bike: MERIDA S-PRESSO 700  28 cali– lekki i szybki rower...\n",
      "2025-04-04 11:05:36,088 [INFO] Enriching bike: Rower szosa/gravel Canyon Grizl M/52 cm Krosno • O...\n",
      "2025-04-04 11:05:54,086 [INFO] Enriching bike: Rondo AL2 Hydro rozmiar M +sporo dodatków Rzeszów ...\n",
      "2025-04-04 11:06:09,966 [INFO] Enriching bike: Opony Schwalbe G-ONE BITE 28x1.70 700x45c (45x622)...\n",
      "2025-04-04 11:06:27,868 [INFO] Enriching bike: Jamis Renegade Expert rozmiar 56 gravel karbon Dąb...\n",
      "2025-04-04 11:06:44,212 [INFO] Enriching bike: Gravel  Kross Esker 5.0 rok 2024 , APEX rozm M Sob...\n",
      "2025-04-04 11:07:04,206 [INFO] Enriching bike: Gravel KTM rozmiar 52 GRX 800 1x11 Kolonia Wolanów...\n",
      "2025-04-04 11:07:21,561 [INFO] Enriching bike: ROSE Backroad FF GRX RX825 Di2 2x12 wyścigowy karb...\n",
      "2025-04-04 11:07:37,950 [INFO] Enriching bike: KANDS toro Claris L Warszawa Wola • OLX.pl...\n",
      "2025-04-04 11:07:50,769 [INFO] Enriching bike: Triban RC 500/Flatbar Sora Van Rysel*/Gravel*/NOWY...\n",
      "2025-04-04 11:08:08,481 [INFO] Enriching bike: Nowy rower Superior X-ROAD TEAM COMP GR, Poznań, G...\n",
      "2025-04-04 11:08:27,209 [INFO] Enriching bike: Rower Romet Aspre 1 2020 rok Szczecin Słoneczne • ...\n",
      "2025-04-04 11:08:48,719 [INFO] Enriching bike: Rower damski gravel Wieliszew • OLX.pl...\n",
      "2025-04-04 11:09:00,539 [INFO] Enriching bike: Gravel Kona Rove NRB rozmiar 56 Kania Góra • OLX.p...\n",
      "2025-04-04 11:09:17,269 [INFO] Enriching bike: Rower Felt road/gravel Broam 60 używany Józefosław...\n",
      "2025-04-04 11:09:40,234 [INFO] Enriching bike: Rower szosowy Triban 520 RC Shimano 105 R7000 Tarc...\n",
      "2025-04-04 11:09:54,163 [INFO] Enriching bike: ROSE Backroad Campagnolo EKAR 1x13 karbonowe koła ...\n",
      "2025-04-04 11:10:18,249 [INFO] Enriching bike: Rower gravel Fuji JARI 1.1 (2021) GRX, rozmiar M (...\n",
      "2025-04-04 11:10:38,237 [INFO] Enriching bike: Rower Triban RC520 L - Shimano 105 - szosa, gravel...\n",
      "2025-04-04 11:10:56,132 [INFO] Enriching bike: Nowy rower gravel 3T Exploro Ultra Carbon Rival AX...\n",
      "2025-04-04 11:11:04,086 [INFO] Enriching bike: Kellys Soot 50 M 2022 Ząbki • OLX.pl...\n",
      "2025-04-04 11:11:17,167 [INFO] Enriching bike: Rower gravel Marin Four Corners XL 2019 niebieski ...\n",
      "2025-04-04 11:11:24,681 [INFO] Enriching bike: Rower Szosowy/Gravel Triban RC500 na kołach MAVIC ...\n",
      "2025-04-04 11:11:34,691 [WARNING] Request timeout (attempt 1)\n",
      "2025-04-04 11:11:45,716 [WARNING] Request timeout (attempt 2)\n",
      "2025-04-04 11:11:58,745 [WARNING] Request timeout (attempt 3)\n",
      "2025-04-04 11:11:58,746 [INFO] Enriching bike: Koła gravel single singiel singlespeed octane one ...\n",
      "2025-04-04 11:12:17,956 [INFO] Enriching bike: Specialized Diverge Comp E5 Gdańsk Piecki-Migowo •...\n",
      "2025-04-04 11:12:32,470 [INFO] Enriching bike: Rower szosowy lub gravel Triban RC 120 rozm. M Kon...\n",
      "2025-04-04 11:12:51,394 [INFO] Enriching bike: Gravel Cannondale topstone rozmiar M sztywne osie ...\n",
      "2025-04-04 11:13:11,961 [INFO] Enriching bike: Gravel Kellys Scoot 30 Kędzierówka • OLX.pl...\n",
      "2025-04-04 11:13:24,759 [INFO] Enriching bike: Rower Gravel Fitness Turystyczny Marin DSX FS rozm...\n",
      "2025-04-04 11:13:50,816 [INFO] Enriching bike: Niesamowity wloski gravel Basso Palta Carbon Rival...\n",
      "2025-04-04 11:14:08,904 [INFO] Enriching bike: Opony gravel pirelli cinturato rc 700x45c Warszawa...\n",
      "2025-04-04 11:14:23,249 [INFO] Enriching bike: Korba Shimano GRX FC-RX810, 2x11, 48-31, gravel, F...\n",
      "2025-04-04 11:14:39,744 [INFO] Enriching bike: GERMAN ECLIPSE race gravel bike Large size frame K...\n",
      "2025-04-04 11:14:55,415 [INFO] Enriching bike: Gravel Ghost Road Rage GRX rama M Warszawa Śródmie...\n",
      "2025-04-04 11:15:13,344 [INFO] Enriching bike: Siodełko PRO FALCON 152mm szosa, MTB, gravel / now...\n",
      "2025-04-04 11:15:36,848 [INFO] Enriching bike: Rower gravel NS Bikes RAG+ \\ L \\ 28\" Sram Apex 11s...\n",
      "2025-04-04 11:15:53,170 [INFO] Enriching bike: Gravel , przełaj , Trekking  Sram AXS Stalowa Wola...\n",
      "2025-04-04 11:16:12,009 [INFO] Enriching bike: Nowy rower elektryczny Szwajcarski Flyer Bosch 625...\n",
      "2025-04-04 11:16:22,025 [WARNING] Request timeout (attempt 1)\n",
      "2025-04-04 11:16:37,226 [WARNING] Request timeout (attempt 3)\n",
      "2025-04-04 11:16:37,227 [INFO] Enriching bike: Rower gravel karbon Shimano Grx Warszawa Praga-Poł...\n",
      "2025-04-04 11:16:59,315 [INFO] Enriching bike: Ridley Kanzo Adventure GRX 1x11 DI2 - rama i koła ...\n",
      "2025-04-04 11:17:12,065 [WARNING] Request timeout (attempt 2)\n",
      "2025-04-04 11:17:16,971 [INFO] Enriching bike: NOWE koła gravelowe Hunt 4 Season Gravel Disc 700C...\n",
      "2025-04-04 11:17:24,821 [INFO] Enriching bike: Cannondale Topstone Carbon 5, NOWA RAMA (0km) roz....\n",
      "2025-04-04 11:17:49,505 [INFO] Enriching bike: Rower gravel Cannondale Topstone Carbon 5, rozmiar...\n",
      "2025-04-04 11:18:11,990 [INFO] Enriching bike: Gravel Kellys Soot 70 rama L Warszawa Wola • OLX.p...\n",
      "2025-04-04 11:18:33,737 [INFO] Enriching bike: Specialized Diverge E5 Elite 2019 Mielec • OLX.pl...\n",
      "2025-04-04 11:19:05,667 [INFO] Enriching bike: Accent cx one carbon rozmiar S, GRX serii 800 1x11...\n",
      "2025-04-04 11:19:22,179 [WARNING] Request timeout (attempt 3)\n",
      "2025-04-04 11:19:22,179 [INFO] Enriching bike: Koła rowerowe Rondo Gravel 28 Gdynia Pogórze • OLX...\n",
      "2025-04-04 11:19:39,920 [INFO] Enriching bike: Sprzedam rower gravel Kona Sokołowo • OLX.pl...\n",
      "2025-04-04 11:19:57,922 [INFO] Enriching bike: Rower Gravel romet boreas 1 lite koła 28 Przeworsk...\n",
      "2025-04-04 11:20:05,547 [INFO] Enriching bike: Rower gravel Kross Esker 5.0 2025 1x12 Gen2 złoty ...\n",
      "2025-04-04 11:20:23,991 [INFO] Enriching bike: RIDLEY X-Bow Disc Rival GRAVEL grawel przełaj prze...\n",
      "2025-04-04 11:20:41,708 [INFO] Enriching bike: Kierownica riser gravel 35mm/44/130/80 carbon Wroc...\n",
      "2025-04-04 11:20:56,825 [INFO] Enriching bike: Gravel stevens supreme rozmiar 50cm GRX Szczecinek...\n",
      "2025-04-04 11:21:13,084 [INFO] Enriching bike: Opony Gravel Vittoria terreno zero 700x35c Płoszów...\n",
      "2025-04-04 11:21:27,058 [INFO] Enriching bike: Gravel Rose Backroad GRX przebieg 1000 km Chojnice...\n",
      "2025-04-04 11:21:41,846 [INFO] Enriching bike: Gravel Cannondale Topstone Carbon 3 (M) full GRX 8...\n",
      "2025-04-04 11:21:56,901 [INFO] Enriching bike: Rama Rowerowa GRAVEL FUJI JARI 1.1 Carbon Rozmiar ...\n",
      "2025-04-04 11:22:13,681 [INFO] Enriching bike: Rose Backroad Gravel Carbon Sram XPLR AXS Łódź Wid...\n",
      "2025-04-04 11:22:20,890 [INFO] Enriching bike: Rower Monteria Massive 2.0 | Męski | Shimano | Naj...\n",
      "2025-04-04 11:22:37,784 [INFO] Enriching bike: Nr2. Bagażnik Ortlieb Quick Rack Light czarny. Gra...\n",
      "2025-04-04 11:23:06,771 [INFO] Enriching bike: CUBE CROSS RACE DISC (przełaj/gravel), Shimano 105...\n",
      "2025-04-04 11:23:22,984 [INFO] Enriching bike: Rower gravel NS BIKES RAG+ 1 Sram APEX, pomiar moc...\n",
      "2025-04-04 11:23:40,136 [INFO] Enriching bike: Rower Cannondale topstone 3 rozmiar L Gravel Łódź ...\n",
      "2025-04-04 11:24:07,654 [INFO] Enriching bike: OKAZJA Nowe koła gravel 47c WTB Formula Vittoria 6...\n"
     ]
    }
   ],
   "source": [
    "enriched_bikes = enricher.process_bikes_from_json(BIKES_FILE, ENRICHED_BIKES_FILE)"
   ]
  },
  {
   "cell_type": "code",
   "execution_count": null,
   "id": "adeea842-c6ba-4207-a9fe-0487dc3603c2",
   "metadata": {},
   "outputs": [],
   "source": [
    "enriched_bikes"
   ]
  },
  {
   "cell_type": "code",
   "execution_count": null,
   "id": "bca67e8d-3d6b-425c-9881-aa6e516e12fd",
   "metadata": {},
   "outputs": [],
   "source": []
  }
 ],
 "metadata": {
  "kernelspec": {
   "display_name": "Python 3 (ipykernel)",
   "language": "python",
   "name": "python3"
  },
  "language_info": {
   "codemirror_mode": {
    "name": "ipython",
    "version": 3
   },
   "file_extension": ".py",
   "mimetype": "text/x-python",
   "name": "python",
   "nbconvert_exporter": "python",
   "pygments_lexer": "ipython3",
   "version": "3.8.19"
  }
 },
 "nbformat": 4,
 "nbformat_minor": 5
}
